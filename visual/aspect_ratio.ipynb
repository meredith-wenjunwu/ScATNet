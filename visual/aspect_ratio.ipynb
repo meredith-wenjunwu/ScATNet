{
 "cells": [
  {
   "cell_type": "code",
   "execution_count": 18,
   "id": "filled-payment",
   "metadata": {},
   "outputs": [],
   "source": [
    "import openslide\n",
    "import torch\n",
    "import os\n",
    "import numpy as np\n",
    "\n",
    "datasetfile = '/projects/patho2/melanoma_diagnosis/x10/experiment_txt/dataset.pth'\n",
    "dataset = torch.load(datasetfile)"
   ]
  },
  {
   "cell_type": "code",
   "execution_count": 12,
   "id": "rental-bridges",
   "metadata": {},
   "outputs": [],
   "source": [
    "class_case_dict = {}\n",
    "for mode in dataset:\n",
    "    dataset_mode = dataset[mode]\n",
    "    for line in dataset_mode:\n",
    "        im_p, label, select = line.split(';')\n",
    "        bn = os.path.basename(im_p).split('_')\n",
    "        bn = bn[0] + '_' + bn[1]\n",
    "        if int(label) in class_case_dict:\n",
    "            class_case_dict[int(label)].append(bn)\n",
    "        else:\n",
    "            class_case_dict[int(label)] = [bn]"
   ]
  },
  {
   "cell_type": "code",
   "execution_count": 28,
   "id": "freelance-support",
   "metadata": {},
   "outputs": [],
   "source": [
    "class_mode_case_dict = {}\n",
    "for mode in dataset:\n",
    "    class_mode_case_dict[mode] = {}\n",
    "    dataset_mode = dataset[mode]\n",
    "    for line in dataset_mode:\n",
    "        im_p, label, select = line.split(';')\n",
    "        bn = os.path.basename(im_p).split('_')\n",
    "        bn = bn[0] + '_' + bn[1]\n",
    "        if int(label) in class_mode_case_dict[mode]:\n",
    "            class_mode_case_dict[mode][int(label)].append(bn)\n",
    "        else:\n",
    "            class_mode_case_dict[mode][int(label)] = [bn]"
   ]
  },
  {
   "cell_type": "code",
   "execution_count": 40,
   "id": "discrete-pattern",
   "metadata": {},
   "outputs": [
    {
     "data": {
      "text/plain": [
       "5"
      ]
     },
     "execution_count": 40,
     "metadata": {},
     "output_type": "execute_result"
    }
   ],
   "source": [
    "len(set(class_mode_case_dict['valid'][3]))"
   ]
  },
  {
   "cell_type": "code",
   "execution_count": 35,
   "id": "suburban-major",
   "metadata": {},
   "outputs": [
    {
     "data": {
      "text/plain": [
       "'MP_0300'"
      ]
     },
     "execution_count": 35,
     "metadata": {},
     "output_type": "execute_result"
    }
   ],
   "source": [
    "bn"
   ]
  },
  {
   "cell_type": "code",
   "execution_count": 39,
   "id": "regional-exemption",
   "metadata": {},
   "outputs": [
    {
     "name": "stdout",
     "output_type": "stream",
     "text": [
      "class 2: mean size [w x h]: [11842.95384615 10314.83076923]\n",
      "class 1: mean size [w x h]: [9133.24137931 8500.96551724]\n",
      "class 0: mean size [w x h]: [9490.13333333 7984.        ]\n",
      "class 3: mean size [w x h]: [14857.95555556 12154.31111111]\n",
      "overall: mean size [w x h]: [11129.54385965  9603.0877193 ]\n"
     ]
    }
   ],
   "source": [
    "wsi_dir = '/projects/melanoma/mpath/originals/Set1/'\n",
    "all_sizes = []\n",
    "for c in class_case_dict:\n",
    "    sizes = []\n",
    "    for case_id in set(class_case_dict[c]):\n",
    "        wsi_path = os.path.join(wsi_dir, case_id + '.ndpi')\n",
    "        slide = openslide.OpenSlide(wsi_path)\n",
    "        sizes.append(slide.level_dimensions[2])\n",
    "    all_sizes.extend(sizes)\n",
    "    print('class {}: mean size [w x h]: {}'.format(c, np.mean(np.array(sizes), axis=0)))\n",
    "\n",
    "print('overall: mean size [w x h]: {}'.format(np.mean(np.array(all_sizes), axis=0)))\n",
    "        "
   ]
  },
  {
   "cell_type": "code",
   "execution_count": 2,
   "id": "apparent-diagnosis",
   "metadata": {},
   "outputs": [],
   "source": [
    "for im_p in image_list:\n",
    "    im = Image.open(im_p)\n",
    "    w, h = im.size\n",
    "    sizes.append([min(w,h), max(w, h)])\n",
    "    "
   ]
  },
  {
   "cell_type": "code",
   "execution_count": 3,
   "id": "limiting-madagascar",
   "metadata": {},
   "outputs": [],
   "source": [
    "import numpy as np\n",
    "sizes = np.array(sizes)\n"
   ]
  },
  {
   "cell_type": "code",
   "execution_count": 4,
   "id": "ignored-brooklyn",
   "metadata": {},
   "outputs": [
    {
     "data": {
      "text/plain": [
       "array([2633.13716814, 7867.15929204])"
      ]
     },
     "execution_count": 4,
     "metadata": {},
     "output_type": "execute_result"
    }
   ],
   "source": [
    "np.mean(sizes, axis=0)"
   ]
  },
  {
   "cell_type": "code",
   "execution_count": 5,
   "id": "regulation-front",
   "metadata": {},
   "outputs": [
    {
     "data": {
      "text/plain": [
       "array([2119.28609489, 3894.72135408])"
      ]
     },
     "execution_count": 5,
     "metadata": {},
     "output_type": "execute_result"
    }
   ],
   "source": [
    "np.std(sizes, axis=0)"
   ]
  },
  {
   "cell_type": "code",
   "execution_count": 8,
   "id": "stylish-congo",
   "metadata": {},
   "outputs": [
    {
     "data": {
      "text/plain": [
       "16561"
      ]
     },
     "execution_count": 8,
     "metadata": {},
     "output_type": "execute_result"
    }
   ],
   "source": [
    "np.max(sizes[:, 0])"
   ]
  },
  {
   "cell_type": "code",
   "execution_count": 9,
   "id": "original-progressive",
   "metadata": {},
   "outputs": [
    {
     "data": {
      "text/plain": [
       "28764"
      ]
     },
     "execution_count": 9,
     "metadata": {},
     "output_type": "execute_result"
    }
   ],
   "source": [
    "np.max(sizes[:, 1])"
   ]
  },
  {
   "cell_type": "code",
   "execution_count": null,
   "id": "described-dance",
   "metadata": {},
   "outputs": [],
   "source": []
  }
 ],
 "metadata": {
  "kernelspec": {
   "display_name": "Python 3",
   "language": "python",
   "name": "python3"
  },
  "language_info": {
   "codemirror_mode": {
    "name": "ipython",
    "version": 3
   },
   "file_extension": ".py",
   "mimetype": "text/x-python",
   "name": "python",
   "nbconvert_exporter": "python",
   "pygments_lexer": "ipython3",
   "version": "3.7.6"
  }
 },
 "nbformat": 4,
 "nbformat_minor": 5
}
