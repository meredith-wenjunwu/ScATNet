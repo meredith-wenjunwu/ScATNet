{
 "cells": [
  {
   "cell_type": "code",
   "execution_count": 24,
   "id": "regulated-roommate",
   "metadata": {},
   "outputs": [],
   "source": [
    "import os\n",
    "import glob\n",
    "import shutil\n",
    "import random"
   ]
  },
  {
   "cell_type": "code",
   "execution_count": 8,
   "id": "superb-argentina",
   "metadata": {},
   "outputs": [],
   "source": [
    "basedir = '/projects/patho2/External_Data/BreaKHis_v1/'\n",
    "num_fold = 5"
   ]
  },
  {
   "cell_type": "code",
   "execution_count": 22,
   "id": "incorporated-aviation",
   "metadata": {},
   "outputs": [],
   "source": [
    "for f in range(1, num_fold+1):\n",
    "    for mode in ['train', 'test']:\n",
    "        fold = 'fold{}'.format(f)\n",
    "        fold_dir  = os.path.join(basedir, fold, mode)\n",
    "        \n",
    "        common_set = None\n",
    "        for mag in os.listdir(fold_dir):\n",
    "            curr_set = set()\n",
    "            curr = os.path.join(fold_dir, mag, '*.png')\n",
    "            im_list = glob.glob(curr)\n",
    "            for im in im_list:\n",
    "                _, _, im_id, _, im_ind = os.path.splitext(os.path.basename(im))[0].split('-')\n",
    "                curr_set.add((im_id, im_ind))\n",
    "            if common_set is None:\n",
    "                common_set = curr_set\n",
    "            else:\n",
    "                common_set = curr_set.intersection(common_set)\n",
    "        for mag in os.listdir(fold_dir):\n",
    "            out_dir = os.path.join(basedir, fold+'_new', mode, mag)\n",
    "            if not os.path.exists(out_dir):\n",
    "                os.makedirs(out_dir, exist_ok=True)\n",
    "            curr = os.path.join(fold_dir, mag, '*.png')\n",
    "            im_list = glob.glob(curr)\n",
    "            for im in im_list:\n",
    "                _, _, im_id, _, im_ind = os.path.splitext(os.path.basename(im))[0].split('-')\n",
    "                if (im_id, im_ind) in common_set:\n",
    "                    shutil.copyfile(im, os.path.join(out_dir, os.path.basename(im)))\n",
    "                    \n",
    "            \n",
    "            \n",
    "        "
   ]
  },
  {
   "cell_type": "code",
   "execution_count": 37,
   "id": "public-somewhere",
   "metadata": {},
   "outputs": [],
   "source": [
    "for f in range(1, num_fold+1):\n",
    "    mode = 'train'\n",
    "    fold = 'fold{}_new'.format(f)        \n",
    "    mag = '40X'\n",
    "    im_dir = os.path.join(basedir, fold, mode, mag)\n",
    "    out_dir = os.path.join(basedir, fold)\n",
    "    curr = os.path.join(im_dir, '*.png')\n",
    "    im_list = glob.glob(curr)\n",
    "    random.shuffle(im_list)\n",
    "\n",
    "    train_list = im_list[:int(0.7*len(im_list))]\n",
    "    valid_list = im_list[int(0.7*len(im_list)):]\n",
    "    trainfile_path = os.path.join(out_dir, 'train.txt')\n",
    "    validfile_path = os.path.join(out_dir, 'valid.txt')\n",
    "    with open(trainfile_path, \"w\") as trainhandle:\n",
    "            for fn in train_list:\n",
    "                bn, tumor, im_id, mag, im_ind = os.path.splitext(os.path.basename(fn))[0].split('-')\n",
    "                fn_100x = '{}-{}-{}-{}-{}.png'.format(bn, tumor, im_id, '100X', im_ind)\n",
    "                fn_200x = '{}-{}-{}-{}-{}.png'.format(bn, tumor, im_id, '200X', im_ind)\n",
    "                fn_400x = '{}-{}-{}-{}-{}.png'.format(bn, tumor, im_id, '400X', im_ind)\n",
    "                trainhandle.write('{};{};{};{}\\n'.format(fn, fn_100x, fn_200x, fn_400x))\n",
    "    trainhandle.close()\n",
    "        \n",
    "    with open(validfile_path, \"w\") as validhandle:\n",
    "            for fn in train_list:\n",
    "                bn, tumor, im_id, mag, im_ind = os.path.splitext(os.path.basename(fn))[0].split('-')\n",
    "                fn_100x = '{}-{}-{}-{}-{}.png'.format(bn, tumor, im_id, '100X', im_ind)\n",
    "                fn_200x = '{}-{}-{}-{}-{}.png'.format(bn, tumor, im_id, '200X', im_ind)\n",
    "                fn_400x = '{}-{}-{}-{}-{}.png'.format(bn, tumor, im_id, '400X', im_ind)\n",
    "                validhandle.write('{};{};{};{}\\n'.format(fn, fn_100x, fn_200x, fn_400x))\n",
    "    validhandle.close()\n",
    "            "
   ]
  },
  {
   "cell_type": "code",
   "execution_count": 38,
   "id": "hazardous-yemen",
   "metadata": {},
   "outputs": [
    {
     "data": {
      "text/plain": [
       "'/projects/patho2/External_Data/BreaKHis_v1/fold5_new/train/40X/train.txt'"
      ]
     },
     "execution_count": 38,
     "metadata": {},
     "output_type": "execute_result"
    }
   ],
   "source": [
    "trainfile_path"
   ]
  },
  {
   "cell_type": "code",
   "execution_count": 34,
   "id": "leading-parking",
   "metadata": {},
   "outputs": [
    {
     "data": {
      "text/plain": [
       "'/projects/patho2/External_Data/BreaKHis_v1/fold5_new/train/40X/SOB_M_LC-14-15570C-40-008.png'"
      ]
     },
     "execution_count": 34,
     "metadata": {},
     "output_type": "execute_result"
    }
   ],
   "source": [
    "train_list[0]"
   ]
  },
  {
   "cell_type": "code",
   "execution_count": null,
   "id": "experienced-remark",
   "metadata": {},
   "outputs": [],
   "source": []
  }
 ],
 "metadata": {
  "kernelspec": {
   "display_name": "Python 3",
   "language": "python",
   "name": "python3"
  },
  "language_info": {
   "codemirror_mode": {
    "name": "ipython",
    "version": 3
   },
   "file_extension": ".py",
   "mimetype": "text/x-python",
   "name": "python",
   "nbconvert_exporter": "python",
   "pygments_lexer": "ipython3",
   "version": "3.7.6"
  }
 },
 "nbformat": 4,
 "nbformat_minor": 5
}
