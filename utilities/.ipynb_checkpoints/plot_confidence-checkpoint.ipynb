{
 "cells": [
  {
   "cell_type": "code",
   "execution_count": 2,
   "id": "ancient-ethics",
   "metadata": {},
   "outputs": [],
   "source": [
    "from os import path\n",
    "import numpy as np\n",
    "import matplotlib.pyplot as plt"
   ]
  },
  {
   "cell_type": "code",
   "execution_count": 3,
   "id": "local-editor",
   "metadata": {},
   "outputs": [],
   "source": [
    "results_dir = '/projects/patho1/melanoma_diagnosis/results/4class_mobilenet_6600_256_256x8x64_x10'\n",
    "results_txt = 'result.txt'"
   ]
  },
  {
   "cell_type": "code",
   "execution_count": 4,
   "id": "retired-lotus",
   "metadata": {},
   "outputs": [],
   "source": [
    "with open(path.join(results_dir, results_txt), 'r') as f:\n",
    "    lines = [line.rstrip() for line in f]"
   ]
  },
  {
   "cell_type": "code",
   "execution_count": 19,
   "id": "amended-russia",
   "metadata": {},
   "outputs": [],
   "source": [
    "confusion_matrix = np.zeros((4,4), dtype=int)\n",
    "confidence_matrix = {0: {}, 1: {}, 2: {}, 3:{}}\n",
    "confidence_case_matrix = {}\n",
    "case_level = {}\n",
    "case_lookup = {0: {}, 1: {}, 2: {}, 3:{}}"
   ]
  },
  {
   "cell_type": "code",
   "execution_count": 20,
   "id": "efficient-impossible",
   "metadata": {},
   "outputs": [],
   "source": [
    "\n",
    "for line in lines:\n",
    "    line = line.split(',')\n",
    "    im_p = line[0]\n",
    "    pred = int(line[1])\n",
    "    scores = [float(line[i].replace('[', '').replace(']', '')) for i in range(2, len(line))]\n",
    "    label = max(0, int(path.basename(path.dirname(path.dirname(im_p)))) - 2)\n",
    "    bn = path.basename(im_p)\n",
    "    im_ind = path.splitext(bn)[0]\n",
    "    case = im_ind.split('_x10')[0]\n",
    "    confusion_matrix[label][pred] += 1\n",
    "    if pred not in confidence_matrix[label]:\n",
    "        confidence_matrix[label][pred] = [scores]\n",
    "        case_lookup[label][pred] = [im_ind]\n",
    "    else:\n",
    "        confidence_matrix[label][pred].append(scores)\n",
    "        case_lookup[label][pred].append(im_ind)\n",
    "    if case not in confidence_case_matrix:\n",
    "        confidence_case_matrix[case] = {} \n",
    "        case_level[case] = pred\n",
    "    else:\n",
    "        if pred > case_level[case]:\n",
    "            case_level[case] = pred\n",
    "    confidence_case_matrix[case][str(im_ind[-1])] = scores\n",
    "    \n",
    "        "
   ]
  },
  {
   "cell_type": "code",
   "execution_count": 21,
   "id": "associate-pledge",
   "metadata": {},
   "outputs": [
    {
     "name": "stdout",
     "output_type": "stream",
     "text": [
      "7\n"
     ]
    }
   ],
   "source": []
  },
  {
   "cell_type": "code",
   "execution_count": 27,
   "id": "premier-protection",
   "metadata": {},
   "outputs": [],
   "source": [
    "import csv\n",
    "csv_filename = path.join(results_dir, 'case.csv')\n",
    "fields = ['case ID', 'Prediction', 'slice number', '0', '1', '2', '3']\n",
    "with open(csv_filename, 'w') as csv_f:\n",
    "    csvwriter = csv.writer(csv_f)\n",
    "    csvwriter.writerow(fields) \n",
    "    for case in confidence_case_matrix:\n",
    "        row = [case]\n",
    "        row.append(str(case_level[case]))\n",
    "        csvwriter.writerow(row)\n",
    "        for i in confidence_case_matrix[case]:\n",
    "            slice_row = ['', '']\n",
    "            slice_row.append(str(i))\n",
    "            for conf in confidence_case_matrix[case][str(i)]:\n",
    "                slice_row.append(str(conf))\n",
    "            csvwriter.writerow(slice_row)\n",
    "        else:\n",
    "            break        \n"
   ]
  },
  {
   "cell_type": "code",
   "execution_count": null,
   "id": "exciting-yacht",
   "metadata": {},
   "outputs": [],
   "source": [
    "fig, ax = plt.subplots(nrows=2, ncols=2, figsize=(15,10))\n",
    "for j in range(4):\n",
    "    class_conf = [x[j] for x in confidence_matrix[1][2]]\n",
    "    row = j//2\n",
    "    col = j-2*(j//2)\n",
    "    _ = ax[row][col].hist(class_conf, bins=[0, 0.25, 0.5, 0.75, 1])\n",
    "    ax[row][col].title.set_text('class {}'.format(j))\n",
    "plt.setp(ax, xticks=[0, 0.25, 0.5, 0.75, 1], yticks=range(0, 36, 2))\n"
   ]
  },
  {
   "cell_type": "code",
   "execution_count": 28,
   "id": "described-richardson",
   "metadata": {},
   "outputs": [
    {
     "name": "stdout",
     "output_type": "stream",
     "text": [
      "{'1': [6.500202289316803e-05, 0.948551595211029, 0.04979121312499046, 0.0015922111924737692], '3': [8.029757009353489e-05, 0.969692051410675, 0.029950957745313644, 0.00027671357383951545], '5': [0.0008677956066094339, 0.9733613133430481, 0.02569134533405304, 7.952195301186293e-05]}\n"
     ]
    }
   ],
   "source": [
    "print(confidence_case_matrix['MP_0052'])"
   ]
  },
  {
   "cell_type": "code",
   "execution_count": null,
   "id": "announced-covering",
   "metadata": {},
   "outputs": [],
   "source": []
  }
 ],
 "metadata": {
  "kernelspec": {
   "display_name": "Python 3",
   "language": "python",
   "name": "python3"
  },
  "language_info": {
   "codemirror_mode": {
    "name": "ipython",
    "version": 3
   },
   "file_extension": ".py",
   "mimetype": "text/x-python",
   "name": "python",
   "nbconvert_exporter": "python",
   "pygments_lexer": "ipython3",
   "version": "3.7.6"
  }
 },
 "nbformat": 4,
 "nbformat_minor": 5
}
