{
 "cells": [
  {
   "cell_type": "code",
   "execution_count": 24,
   "id": "guilty-checklist",
   "metadata": {},
   "outputs": [],
   "source": [
    "import os\n",
    "import glob\n",
    "import shutil\n",
    "import random"
   ]
  },
  {
   "cell_type": "code",
   "execution_count": 8,
   "id": "changing-rebound",
   "metadata": {},
   "outputs": [],
   "source": [
    "basedir = '/projects/patho2/External_Data/BreaKHis_v1/'\n",
    "num_fold = 5"
   ]
  },
  {
   "cell_type": "code",
   "execution_count": 22,
   "id": "promotional-warren",
   "metadata": {},
   "outputs": [],
   "source": [
    "for f in range(1, num_fold+1):\n",
    "    for mode in ['train', 'test']:\n",
    "        fold = 'fold{}'.format(f)\n",
    "        fold_dir  = os.path.join(basedir, fold, mode)\n",
    "        \n",
    "        common_set = None\n",
    "        for mag in os.listdir(fold_dir):\n",
    "            curr_set = set()\n",
    "            curr = os.path.join(fold_dir, mag, '*.png')\n",
    "            im_list = glob.glob(curr)\n",
    "            for im in im_list:\n",
    "                _, _, im_id, _, im_ind = os.path.splitext(os.path.basename(im))[0].split('-')\n",
    "                curr_set.add((im_id, im_ind))\n",
    "            if common_set is None:\n",
    "                common_set = curr_set\n",
    "            else:\n",
    "                common_set = curr_set.intersection(common_set)\n",
    "        for mag in os.listdir(fold_dir):\n",
    "            out_dir = os.path.join(basedir, fold+'_new', mode, mag)\n",
    "            if not os.path.exists(out_dir):\n",
    "                os.makedirs(out_dir, exist_ok=True)\n",
    "            curr = os.path.join(fold_dir, mag, '*.png')\n",
    "            im_list = glob.glob(curr)\n",
    "            for im in im_list:\n",
    "                _, _, im_id, _, im_ind = os.path.splitext(os.path.basename(im))[0].split('-')\n",
    "                if (im_id, im_ind) in common_set:\n",
    "                    shutil.copyfile(im, os.path.join(out_dir, os.path.basename(im)))\n",
    "                    \n",
    "            \n",
    "            \n",
    "        "
   ]
  },
  {
   "cell_type": "code",
   "execution_count": 53,
   "id": "developing-assistant",
   "metadata": {},
   "outputs": [],
   "source": [
    "for f in range(1, num_fold+1):\n",
    "    mode = 'train'\n",
    "    fold = 'fold{}_new'.format(f)        \n",
    "    mag = '40X'\n",
    "    im_dir = os.path.join(basedir, fold, mode, mag)\n",
    "    out_dir = os.path.join(basedir, fold)\n",
    "    curr = os.path.join(im_dir, '*.png')\n",
    "    im_list = glob.glob(curr)\n",
    "    random.shuffle(im_list)\n",
    "\n",
    "    train_list = im_list[:int(0.7*len(im_list))]\n",
    "    valid_list = im_list[int(0.7*len(im_list)):]\n",
    "    trainfile_path = os.path.join(out_dir, 'train.txt')\n",
    "    validfile_path = os.path.join(out_dir, 'valid.txt')\n",
    "    with open(trainfile_path, \"w\") as trainhandle:\n",
    "        base_dir = os.path.join(basedir, fold, 'train')\n",
    "        for fn in train_list:\n",
    "            bn, tumor, im_id, mag, im_ind = os.path.splitext(os.path.basename(fn))[0].split('-')\n",
    "            fn_100x = glob.glob(os.path.join(base_dir, '100X', '{}-{}-{}-{}-{}.png'.format(*, *, im_id, '100', im_ind)))[0]\n",
    "            fn_200x = os.path.join(base_dir, '200X', '{}-{}-{}-{}-{}.png'.format(*, *, im_id, '200', im_ind))\n",
    "            fn_400x = os.path.join(base_dir, '400X', '{}-{}-{}-{}-{}.png'.format(*, *, im_id, '400', im_ind))\n",
    "            trainhandle.write('{};{};{};{}\\n'.format(fn, fn_100x, fn_200x, fn_400x))\n",
    "    trainhandle.close()\n",
    "        \n",
    "    with open(validfile_path, \"w\") as validhandle:\n",
    "        base_dir = os.path.join(basedir, fold, 'train')\n",
    "        for fn in valid_list:\n",
    "            bn, tumor, im_id, mag, im_ind = os.path.splitext(os.path.basename(fn))[0].split('-')\n",
    "            fn_100x = os.path.join(base_dir, '100X', '{}-{}-{}-{}-{}.png'.format(*, *, im_id, '100', im_ind))\n",
    "            fn_200x = os.path.join(base_dir, '200X', '{}-{}-{}-{}-{}.png'.format(*, *, im_id, '200', im_ind))\n",
    "            fn_400x = os.path.join(base_dir, '400X', '{}-{}-{}-{}-{}.png'.format(*, *, im_id, '400', im_ind))\n",
    "            validhandle.write('{};{};{};{}\\n'.format(fn, fn_100x, fn_200x, fn_400x))\n",
    "    validhandle.close()\n",
    "            "
   ]
  },
  {
   "cell_type": "code",
   "execution_count": 55,
   "id": "asian-satin",
   "metadata": {},
   "outputs": [],
   "source": [
    "for f in range(1, num_fold+1):\n",
    "    mode = 'test'\n",
    "    fold = 'fold{}_new'.format(f)        \n",
    "    mag = '40X'\n",
    "    im_dir = os.path.join(basedir, fold, mode, mag)\n",
    "    out_dir = os.path.join(basedir, fold)\n",
    "    curr = os.path.join(im_dir, '*.png')\n",
    "    im_list = glob.glob(curr)\n",
    "\n",
    "    testfile_path = os.path.join(out_dir, 'test.txt')\n",
    "    with open(testfile_path, \"w\") as testhandle:\n",
    "        base_dir = os.path.join(basedir, fold, 'test')\n",
    "        for fn in im_list:\n",
    "            bn, tumor, im_id, mag, im_ind = os.path.splitext(os.path.basename(fn))[0].split('-')\n",
    "            fn_100x = os.path.join(base_dir, '100X', '{}-{}-{}-{}-{}.png'.format(bn, tumor, im_id, '100', im_ind))\n",
    "            fn_200x = os.path.join(base_dir, '200X', '{}-{}-{}-{}-{}.png'.format(bn, tumor, im_id, '200', im_ind))\n",
    "            fn_400x = os.path.join(base_dir, '400X', '{}-{}-{}-{}-{}.png'.format(bn, tumor, im_id, '400', im_ind))\n",
    "            testhandle.write('{};{};{};{}\\n'.format(fn, fn_100x, fn_200x, fn_400x))\n",
    "    testhandle.close()\n",
    "            "
   ]
  },
  {
   "cell_type": "code",
   "execution_count": 57,
   "id": "choice-object",
   "metadata": {},
   "outputs": [
    {
     "data": {
      "text/plain": [
       "True"
      ]
     },
     "execution_count": 57,
     "metadata": {},
     "output_type": "execute_result"
    }
   ],
   "source": [
    "os.path.exists(fn_200x)"
   ]
  },
  {
   "cell_type": "code",
   "execution_count": null,
   "id": "freelance-click",
   "metadata": {},
   "outputs": [],
   "source": []
  }
 ],
 "metadata": {
  "kernelspec": {
   "display_name": "Python 3",
   "language": "python",
   "name": "python3"
  },
  "language_info": {
   "codemirror_mode": {
    "name": "ipython",
    "version": 3
   },
   "file_extension": ".py",
   "mimetype": "text/x-python",
   "name": "python",
   "nbconvert_exporter": "python",
   "pygments_lexer": "ipython3",
   "version": "3.7.6"
  }
 },
 "nbformat": 4,
 "nbformat_minor": 5
}
